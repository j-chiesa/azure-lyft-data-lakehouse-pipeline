{
 "cells": [
  {
   "cell_type": "markdown",
   "metadata": {
    "application/vnd.databricks.v1+cell": {
     "cellMetadata": {
      "byteLimit": 2048000,
      "rowLimit": 10000
     },
     "inputWidgets": {},
     "nuid": "e8e761ec-1d40-4a0d-8aee-7e060b807870",
     "showTitle": false,
     "title": ""
    }
   },
   "source": [
    "#Parquet To Delta Lake"
   ]
  },
  {
   "cell_type": "markdown",
   "metadata": {
    "application/vnd.databricks.v1+cell": {
     "cellMetadata": {
      "byteLimit": 2048000,
      "rowLimit": 10000
     },
     "inputWidgets": {},
     "nuid": "4203e5dc-58ae-49c5-b3d7-2e6c4a0564c8",
     "showTitle": false,
     "title": ""
    }
   },
   "source": [
    "This pipeline is designed to ingest data from Parquet files and create a Delta Lake in the Bronze layer of the medallion architecture. The pipeline performs schema alignment and data partitioning, ensuring data is organized and accessible for downstream processing."
   ]
  },
  {
   "cell_type": "code",
   "execution_count": 0,
   "metadata": {
    "application/vnd.databricks.v1+cell": {
     "cellMetadata": {
      "byteLimit": 2048000,
      "rowLimit": 10000
     },
     "inputWidgets": {},
     "nuid": "8561f5b8-5530-4b24-9d95-7221fba08aac",
     "showTitle": false,
     "title": ""
    }
   },
   "outputs": [],
   "source": [
    "from pyspark.sql.types import *\n",
    "from pyspark.sql.functions import *"
   ]
  },
  {
   "cell_type": "markdown",
   "metadata": {
    "application/vnd.databricks.v1+cell": {
     "cellMetadata": {
      "byteLimit": 2048000,
      "rowLimit": 10000
     },
     "inputWidgets": {},
     "nuid": "66d467f4-1df7-429d-98a0-199c22fc2fab",
     "showTitle": false,
     "title": ""
    }
   },
   "source": [
    "##1. Data Reading"
   ]
  },
  {
   "cell_type": "markdown",
   "metadata": {
    "application/vnd.databricks.v1+cell": {
     "cellMetadata": {},
     "inputWidgets": {},
     "nuid": "dfa8851b-049a-493b-a7f7-90eedc191a2d",
     "showTitle": false,
     "title": ""
    }
   },
   "source": [
    "Dynamic widgets are set up to specify the data partition by year and month, allowing flexible selection of time-based data for processing. This modular approach makes it easy to load only the relevant data, enhancing reusability."
   ]
  },
  {
   "cell_type": "code",
   "execution_count": 0,
   "metadata": {
    "application/vnd.databricks.v1+cell": {
     "cellMetadata": {
      "byteLimit": 2048000,
      "rowLimit": 10000
     },
     "inputWidgets": {},
     "nuid": "822fdc2d-8954-41d6-b8fb-78257de32b6c",
     "showTitle": false,
     "title": ""
    }
   },
   "outputs": [],
   "source": [
    "dbutils.widgets.text(\"Year\", \"\")\n",
    "dbutils.widgets.text(\"Month\", \"\")\n",
    "\n",
    "partition_year = dbutils.widgets.get(\"Year\")\n",
    "partition_month = dbutils.widgets.get(\"Month\")"
   ]
  },
  {
   "cell_type": "code",
   "execution_count": 0,
   "metadata": {
    "application/vnd.databricks.v1+cell": {
     "cellMetadata": {
      "byteLimit": 2048000,
      "rowLimit": 10000
     },
     "inputWidgets": {},
     "nuid": "628f0ef4-9265-44a8-be81-0c1007f91943",
     "showTitle": false,
     "title": ""
    }
   },
   "outputs": [],
   "source": [
    "parquet_df = spark.read.format(\"parquet\").load(f\"/mnt/bronze/parquet_data/PartitionYear={partition_year}/PartitionMonth={partition_month}\")"
   ]
  },
  {
   "cell_type": "markdown",
   "metadata": {
    "application/vnd.databricks.v1+cell": {
     "cellMetadata": {
      "byteLimit": 2048000,
      "rowLimit": 10000
     },
     "inputWidgets": {},
     "nuid": "bb5b15b0-76c4-44b5-af77-96c95a9f4c82",
     "showTitle": false,
     "title": ""
    }
   },
   "source": [
    "##2. Delta Lake Schema Alignment"
   ]
  },
  {
   "cell_type": "markdown",
   "metadata": {
    "application/vnd.databricks.v1+cell": {
     "cellMetadata": {
      "byteLimit": 2048000,
      "rowLimit": 10000
     },
     "inputWidgets": {},
     "nuid": "e4999513-82a5-4efd-a58e-3fb883a9b091",
     "showTitle": false,
     "title": ""
    }
   },
   "source": [
    "To ensure compatibility with the Delta Lake schema, columns are cast to specific data types. This step is crucial to maintain data consistency and compatibility for analysis in later stages."
   ]
  },
  {
   "cell_type": "code",
   "execution_count": 0,
   "metadata": {
    "application/vnd.databricks.v1+cell": {
     "cellMetadata": {
      "byteLimit": 2048000,
      "rowLimit": 10000
     },
     "inputWidgets": {},
     "nuid": "81a3032f-30a3-4f31-9785-ceea4baa3865",
     "showTitle": false,
     "title": ""
    }
   },
   "outputs": [],
   "source": [
    "parquet_df = (parquet_df\n",
    "  .withColumn(\"VendorID\", col(\"VendorID\").cast(IntegerType()))\n",
    "  .withColumn(\"tpep_pickup_datetime\", col(\"tpep_pickup_datetime\").cast(TimestampType())) \n",
    "  .withColumn(\"tpep_dropoff_datetime\", col(\"tpep_dropoff_datetime\").cast(TimestampType())) \n",
    "  .withColumn(\"passenger_count\", col(\"passenger_count\").cast(LongType()))\n",
    "  .withColumn(\"trip_distance\", col(\"trip_distance\").cast(DoubleType()))\n",
    "  .withColumn(\"RatecodeID\", col(\"RatecodeID\").cast(LongType()))\n",
    "  .withColumn(\"store_and_fwd_flag\", col(\"store_and_fwd_flag\").cast(StringType()))\n",
    "  .withColumn(\"PULocationID\", col(\"PULocationID\").cast(IntegerType()))\n",
    "  .withColumn(\"DOLocationID\", col(\"DOLocationID\").cast(IntegerType())) \n",
    "  .withColumn(\"payment_type\", col(\"payment_type\").cast(LongType()))\n",
    "  .withColumn(\"fare_amount\", col(\"fare_amount\").cast(DoubleType()))\n",
    "  .withColumn(\"extra\", col(\"extra\").cast(DoubleType()))\n",
    "  .withColumn(\"mta_tax\", col(\"mta_tax\").cast(DoubleType()))\n",
    "  .withColumn(\"tip_amount\", col(\"tip_amount\").cast(DoubleType()))\n",
    "  .withColumn(\"tolls_amount\", col(\"tolls_amount\").cast(DoubleType())) \n",
    "  .withColumn(\"improvement_surcharge\", col(\"improvement_surcharge\").cast(DoubleType())) \n",
    "  .withColumn(\"total_amount\", col(\"total_amount\").cast(DoubleType())) \n",
    "  .withColumn(\"congestion_surcharge\", col(\"congestion_surcharge\").cast(DoubleType())) \n",
    "  .withColumn(\"Airport_fee\", col(\"Airport_fee\").cast(DoubleType()))\n",
    "  .withColumn(\"PartitionYear\", lit(partition_year).cast(IntegerType())) \n",
    "  .withColumn(\"PartitionMonth\", lit(partition_month).cast(IntegerType()))\n",
    ")\n",
    "\n",
    "parquet_df.printSchema()"
   ]
  },
  {
   "cell_type": "markdown",
   "metadata": {
    "application/vnd.databricks.v1+cell": {
     "cellMetadata": {
      "byteLimit": 2048000,
      "rowLimit": 10000
     },
     "inputWidgets": {},
     "nuid": "53362290-8ec9-4112-a69d-649dcd2b0fab",
     "showTitle": false,
     "title": ""
    }
   },
   "source": [
    "##3. Data Writing"
   ]
  },
  {
   "cell_type": "markdown",
   "metadata": {
    "application/vnd.databricks.v1+cell": {
     "cellMetadata": {},
     "inputWidgets": {},
     "nuid": "c6cabb4b-1818-4721-9b2f-396d86666ffb",
     "showTitle": false,
     "title": ""
    }
   },
   "source": [
    "The transformed data is written to Delta format in the Bronze layer, partitioned by year and month. Partitioning optimizes data storage and querying, making it suitable for analysis and further transformation."
   ]
  },
  {
   "cell_type": "code",
   "execution_count": 0,
   "metadata": {
    "application/vnd.databricks.v1+cell": {
     "cellMetadata": {
      "byteLimit": 2048000,
      "rowLimit": 10000
     },
     "inputWidgets": {},
     "nuid": "2c15ca5c-af7e-43fd-ae6f-f9af19aa2d05",
     "showTitle": false,
     "title": ""
    }
   },
   "outputs": [],
   "source": [
    "parquet_df.write.format(\"delta\").mode(\"append\").partitionBy(\"PartitionYear\", \"PartitionMonth\").save(\"/mnt/bronze/delta_data/\")"
   ]
  }
 ],
 "metadata": {
  "application/vnd.databricks.v1+notebook": {
   "dashboards": [],
   "environmentMetadata": {
    "base_environment": "",
    "client": "1"
   },
   "language": "python",
   "notebookMetadata": {
    "pythonIndentUnit": 4
   },
   "notebookName": "lyft-parquet-delta",
   "widgets": {
    "Month": {
     "currentValue": "",
     "nuid": "f120f7b0-50d6-4617-a161-cb0793b984d9",
     "typedWidgetInfo": {
      "autoCreated": false,
      "defaultValue": "",
      "label": null,
      "name": "Month",
      "options": {
       "widgetDisplayType": "Text",
       "validationRegex": null
      },
      "parameterDataType": "String"
     },
     "widgetInfo": {
      "widgetType": "text",
      "defaultValue": "",
      "label": null,
      "name": "Month",
      "options": {
       "widgetType": "text",
       "autoCreated": null,
       "validationRegex": null
      }
     }
    },
    "Year": {
     "currentValue": "",
     "nuid": "50590b59-81bc-4aa8-bfa2-fea7055bb29a",
     "typedWidgetInfo": {
      "autoCreated": false,
      "defaultValue": "",
      "label": null,
      "name": "Year",
      "options": {
       "widgetDisplayType": "Text",
       "validationRegex": null
      },
      "parameterDataType": "String"
     },
     "widgetInfo": {
      "widgetType": "text",
      "defaultValue": "",
      "label": null,
      "name": "Year",
      "options": {
       "widgetType": "text",
       "autoCreated": null,
       "validationRegex": null
      }
     }
    }
   }
  },
  "language_info": {
   "name": "python"
  }
 },
 "nbformat": 4,
 "nbformat_minor": 0
}
