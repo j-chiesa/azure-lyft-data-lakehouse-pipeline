{
 "cells": [
  {
   "cell_type": "markdown",
   "metadata": {
    "application/vnd.databricks.v1+cell": {
     "cellMetadata": {
      "byteLimit": 2048000,
      "rowLimit": 10000
     },
     "inputWidgets": {},
     "nuid": "d7d5d025-2b36-48b9-ad00-3898f1b9cfd6",
     "showTitle": false,
     "title": ""
    }
   },
   "source": [
    "#Silver To Gold"
   ]
  },
  {
   "cell_type": "markdown",
   "metadata": {
    "application/vnd.databricks.v1+cell": {
     "cellMetadata": {},
     "inputWidgets": {},
     "nuid": "83f6b85a-69ea-400a-83df-f86e9e87cc23",
     "showTitle": false,
     "title": ""
    }
   },
   "source": [
    "The Silver to Gold code refines the data into a star schema model, enhancing usability for analytics and reporting by creating fact and dimension tables. Starting from cleansed data in the Silver layer, it proceeds as follows:\n",
    "\n",
    "- **Data Loading:** Reads the Silver data for a specified partition year and month into a Spark DataFrame.\n",
    "\n",
    "- **Fact Table Creation:** Adds a unique TripID to each record and extracts date-related fields (e.g., Date, PartitionYear, PartitionMonth) to enable efficient querying and partitioning. It also captures the source file name for audit purposes, allowing data lineage tracking. This fact table, `FactTrips`, contains detailed trip information for analysis.\n",
    "\n",
    "- **Dimension Tables:**\n",
    "\n",
    "  -   **Date Dimension:** Extracts date-related attributes like day of the week, day of the month, and year to support time-based aggregations and trend analysis.\n",
    "\n",
    "  - **Location Dimension:** Incorporates external reference data to associate location IDs with descriptive zones, enhancing the contextual value of location data.\n",
    "\n",
    "  - **Rate Code and Payment Type Dimensions:** Maps categorical codes to descriptive labels for rate types and payment methods, ensuring clarity and consistency in the trip data.\n",
    "\n",
    "- **Data Loading:** Writes `FactTrips`, `DimDate`, `DimLocation`, `DimRateCode`, and `DimPaymentType` tables to the Gold layer in Delta format, partitioned where applicable, optimizing the data for fast access in analytics and reporting.\n",
    "\n",
    "This structured transformation enables more efficient and insightful analysis by simplifying joins and making dimensions reusable across queries."
   ]
  },
  {
   "cell_type": "code",
   "execution_count": 0,
   "metadata": {
    "application/vnd.databricks.v1+cell": {
     "cellMetadata": {
      "byteLimit": 2048000,
      "rowLimit": 10000
     },
     "inputWidgets": {},
     "nuid": "9791183d-5a77-4988-b893-5d4a7adc5beb",
     "showTitle": false,
     "title": ""
    }
   },
   "outputs": [],
   "source": [
    "from pyspark.sql.functions import *\n",
    "from pyspark.sql.types import *\n",
    "from datetime import datetime\n",
    "from calendar import monthrange"
   ]
  },
  {
   "cell_type": "markdown",
   "metadata": {
    "application/vnd.databricks.v1+cell": {
     "cellMetadata": {
      "byteLimit": 2048000,
      "rowLimit": 10000
     },
     "inputWidgets": {},
     "nuid": "de7d3d5b-e65f-40b9-a9bc-cbea8e0a1fe2",
     "showTitle": false,
     "title": ""
    }
   },
   "source": [
    "##1. Data Reading"
   ]
  },
  {
   "cell_type": "markdown",
   "metadata": {
    "application/vnd.databricks.v1+cell": {
     "cellMetadata": {},
     "inputWidgets": {},
     "nuid": "12d6576c-b91c-4b0b-812e-667412d9566e",
     "showTitle": false,
     "title": ""
    }
   },
   "source": [
    "Retrieves year and month values for partitioning, allowing for efficient data filtering."
   ]
  },
  {
   "cell_type": "code",
   "execution_count": 0,
   "metadata": {
    "application/vnd.databricks.v1+cell": {
     "cellMetadata": {
      "byteLimit": 2048000,
      "rowLimit": 10000
     },
     "inputWidgets": {},
     "nuid": "848d9751-a082-4790-bb35-d33a44372d46",
     "showTitle": false,
     "title": ""
    }
   },
   "outputs": [],
   "source": [
    "dbutils.widgets.text(\"Year\", \"\")\n",
    "dbutils.widgets.text(\"Month\", \"\")\n",
    "\n",
    "partition_year = dbutils.widgets.get(\"Year\")\n",
    "partition_month = dbutils.widgets.get(\"Month\")"
   ]
  },
  {
   "cell_type": "markdown",
   "metadata": {
    "application/vnd.databricks.v1+cell": {
     "cellMetadata": {},
     "inputWidgets": {},
     "nuid": "39d0eed1-35ac-424d-9cd6-2d0540447702",
     "showTitle": false,
     "title": ""
    }
   },
   "source": [
    "Reads the Silver layer data for the specified partition month and year."
   ]
  },
  {
   "cell_type": "code",
   "execution_count": 0,
   "metadata": {
    "application/vnd.databricks.v1+cell": {
     "cellMetadata": {},
     "inputWidgets": {},
     "nuid": "048d19b8-e3fa-44d3-8116-366910a9bc21",
     "showTitle": false,
     "title": ""
    }
   },
   "outputs": [],
   "source": [
    "gold_df = spark.read.format(\"delta\").load(f\"/mnt/silver/PartitionYear={partition_year}/PartitionMonth={partition_month}\")"
   ]
  },
  {
   "cell_type": "markdown",
   "metadata": {
    "application/vnd.databricks.v1+cell": {
     "cellMetadata": {
      "byteLimit": 2048000,
      "rowLimit": 10000
     },
     "inputWidgets": {},
     "nuid": "98820bd7-aa0c-4e42-b5c3-90a5ba6e0da1",
     "showTitle": false,
     "title": ""
    }
   },
   "source": [
    "##2. Fact Table"
   ]
  },
  {
   "cell_type": "markdown",
   "metadata": {
    "application/vnd.databricks.v1+cell": {
     "cellMetadata": {},
     "inputWidgets": {},
     "nuid": "230701c9-11fb-452d-a92a-39aabc10a0b4",
     "showTitle": false,
     "title": ""
    }
   },
   "source": [
    "Adds a unique `TripID` to ensure each trip record is identifiable for analysis. Creates a Date column for joining with the `Date` dimension table in analytics."
   ]
  },
  {
   "cell_type": "code",
   "execution_count": 0,
   "metadata": {
    "application/vnd.databricks.v1+cell": {
     "cellMetadata": {
      "byteLimit": 2048000,
      "rowLimit": 10000
     },
     "inputWidgets": {},
     "nuid": "ed93732d-62fc-434c-a56f-d2512cdd1026",
     "showTitle": false,
     "title": ""
    }
   },
   "outputs": [],
   "source": [
    "gold_df = (gold_df\n",
    "    .withColumn(\"Date\", to_date(col(\"tpep_pickup_datetime\")))\n",
    "    .withColumn(\"PartitionYear\", year(col(\"tpep_pickup_datetime\")).cast(IntegerType()))\n",
    "    .withColumn(\"PartitionMonth\", month(col(\"tpep_pickup_datetime\")).cast(IntegerType()))\n",
    "    .withColumn(\"SourceFile\", input_file_name())\n",
    ")\n",
    "\n",
    "fact_trips = gold_df.select(\n",
    "    col(\"Date\"),\n",
    "    col(\"PULocationID\").alias(\"PickupLocationID\"),\n",
    "    col(\"DOLocationID\").alias(\"DropoffLocationID\"),\n",
    "    col(\"payment_type\").alias(\"PaymentTypeID\"),\n",
    "    col(\"RatecodeId\").alias(\"RateCodeID\"),\n",
    "    col(\"store_and_fwd_flag\").alias(\"StoreAndFwdFlag\"),\n",
    "    col(\"passenger_count\").alias(\"PassengerCount\"),\n",
    "    col(\"trip_distance\").alias(\"TripDistance\"),\n",
    "    col(\"fare_amount\").alias(\"FareAmount\"),\n",
    "    col(\"extra\").alias(\"Extra\"),\n",
    "    col(\"mta_tax\").alias(\"MtaTax\"),\n",
    "    col(\"tip_amount\").alias(\"TipAmount\"),\n",
    "    col(\"tolls_amount\").alias(\"TollsAmount\"),\n",
    "    col(\"improvement_surcharge\").alias(\"ImprovementSurcharge\"),\n",
    "    col(\"congestion_surcharge\").alias(\"CongestionSurcharge\"),\n",
    "    col(\"Airport_fee\").alias(\"AirportFee\"),\n",
    "    col(\"total_amount\").alias(\"TotalAmount\"),\n",
    "    col(\"PartitionYear\"),\n",
    "    col(\"PartitionMonth\"),\n",
    "    col(\"PipelineRunID\"),\n",
    "    col(\"PipelineRunDate\"),\n",
    "    col(\"SourceFile\")\n",
    ") # Columns are selected depending on fact table design requirements."
   ]
  },
  {
   "cell_type": "markdown",
   "metadata": {
    "application/vnd.databricks.v1+cell": {
     "cellMetadata": {
      "byteLimit": 2048000,
      "rowLimit": 10000
     },
     "inputWidgets": {},
     "nuid": "f9e7f5c5-2362-494e-9cb9-91186587bba5",
     "showTitle": false,
     "title": ""
    }
   },
   "source": [
    "##3. Dimensions"
   ]
  },
  {
   "cell_type": "markdown",
   "metadata": {
    "application/vnd.databricks.v1+cell": {
     "cellMetadata": {
      "byteLimit": 2048000,
      "rowLimit": 10000
     },
     "inputWidgets": {},
     "nuid": "2ea24e34-a3bb-4499-8b2a-a79cf499c4ca",
     "showTitle": false,
     "title": ""
    }
   },
   "source": [
    "####Datetime"
   ]
  },
  {
   "cell_type": "markdown",
   "metadata": {
    "application/vnd.databricks.v1+cell": {
     "cellMetadata": {},
     "inputWidgets": {},
     "nuid": "9ebc52e6-cd11-4dee-b48f-5e298190e5eb",
     "showTitle": false,
     "title": ""
    }
   },
   "source": [
    "Creates Date dimension to provide additional temporal insights (e.g., weekday vs. weekend trends)."
   ]
  },
  {
   "cell_type": "code",
   "execution_count": 0,
   "metadata": {
    "application/vnd.databricks.v1+cell": {
     "cellMetadata": {
      "byteLimit": 2048000,
      "rowLimit": 10000
     },
     "inputWidgets": {},
     "nuid": "d29db7b8-b775-4310-97d6-147ac5076eef",
     "showTitle": false,
     "title": ""
    }
   },
   "outputs": [],
   "source": [
    "dim_date = fact_trips.select(col(\"Date\"))\n",
    "\n",
    "dim_date = (dim_date\n",
    "    .withColumn(\"DayOfWeek\", dayofweek(\"Date\")) # Enables analysis by day of week (e.g., busy days).\n",
    "    .withColumn(\"Day\", dayofmonth(col(\"Date\"))) # Allows aggregation by specific day.\n",
    "    .withColumn(\"Month\", month(col(\"Date\"))) # Facilitates monthly trend analysis.\n",
    "    .withColumn(\"Year\", year(col(\"Date\")))  # Supports year-over-year comparisons.\n",
    ")\n",
    "dim_date = dim_date.dropDuplicates()"
   ]
  },
  {
   "cell_type": "markdown",
   "metadata": {
    "application/vnd.databricks.v1+cell": {
     "cellMetadata": {
      "byteLimit": 2048000,
      "rowLimit": 10000
     },
     "inputWidgets": {},
     "nuid": "87d79412-7a7b-48be-9ffd-e34a236448bd",
     "showTitle": false,
     "title": ""
    }
   },
   "source": [
    "####Location"
   ]
  },
  {
   "cell_type": "markdown",
   "metadata": {
    "application/vnd.databricks.v1+cell": {
     "cellMetadata": {},
     "inputWidgets": {},
     "nuid": "71c816a0-d2a7-40f9-b496-db7a6417ad58",
     "showTitle": false,
     "title": ""
    }
   },
   "source": [
    "Loads reference data to map location IDs to readable names and zones, enriching the trips data with location context."
   ]
  },
  {
   "cell_type": "code",
   "execution_count": 0,
   "metadata": {
    "application/vnd.databricks.v1+cell": {
     "cellMetadata": {
      "byteLimit": 2048000,
      "rowLimit": 10000
     },
     "inputWidgets": {},
     "nuid": "665ecbea-8e2d-4401-8cfc-5749206eba7b",
     "showTitle": false,
     "title": ""
    }
   },
   "outputs": [],
   "source": [
    "dim_pickup_location = spark.read.option(\"header\", \"true\").csv(\"/mnt/lookup-data/location.csv\")\n",
    "dim_pickup_location = dim_pickup_location.withColumnRenamed(\"service_zone\", \"ServiceZone\")\n",
    "\n",
    "dim_dropoff_location = spark.read.option(\"header\", \"true\").csv(\"/mnt/lookup-data/location.csv\")\n",
    "dim_dropoff_location = dim_dropoff_location.withColumnRenamed(\"service_zone\", \"ServiceZone\")"
   ]
  },
  {
   "cell_type": "markdown",
   "metadata": {
    "application/vnd.databricks.v1+cell": {
     "cellMetadata": {
      "byteLimit": 2048000,
      "rowLimit": 10000
     },
     "inputWidgets": {},
     "nuid": "16dd5774-a78c-4a3c-8263-02181229aa55",
     "showTitle": false,
     "title": ""
    }
   },
   "source": [
    "####Rate Code"
   ]
  },
  {
   "cell_type": "markdown",
   "metadata": {
    "application/vnd.databricks.v1+cell": {
     "cellMetadata": {},
     "inputWidgets": {},
     "nuid": "151a131d-84b4-4b1b-b442-4c533123d073",
     "showTitle": false,
     "title": ""
    }
   },
   "source": [
    "Rate Code dimension maps rate code IDs to descriptive names."
   ]
  },
  {
   "cell_type": "code",
   "execution_count": 0,
   "metadata": {
    "application/vnd.databricks.v1+cell": {
     "cellMetadata": {
      "byteLimit": 2048000,
      "rowLimit": 10000
     },
     "inputWidgets": {},
     "nuid": "46fd9fec-a00b-4ba5-9a3a-df936faf87f2",
     "showTitle": false,
     "title": ""
    }
   },
   "outputs": [],
   "source": [
    "dim_rate_code = spark.read.json(\"/mnt/lookup-data/rate_code.json\")\n",
    "\n",
    "dim_rate_code = (dim_rate_code\n",
    "  .withColumn(\"RateCodeID\", col(\"id\").cast(IntegerType()))\n",
    "  .withColumn(\"RateCode\", col(\"type\").cast(StringType()))\n",
    "  .select(\n",
    "    \"RateCodeID\",\n",
    "    \"RateCode\"\n",
    "  )\n",
    ")"
   ]
  },
  {
   "cell_type": "markdown",
   "metadata": {
    "application/vnd.databricks.v1+cell": {
     "cellMetadata": {
      "byteLimit": 2048000,
      "rowLimit": 10000
     },
     "inputWidgets": {},
     "nuid": "44f6677d-bba7-4d4f-906f-f0b62d3131ab",
     "showTitle": false,
     "title": ""
    }
   },
   "source": [
    "####Payment Type"
   ]
  },
  {
   "cell_type": "markdown",
   "metadata": {
    "application/vnd.databricks.v1+cell": {
     "cellMetadata": {},
     "inputWidgets": {},
     "nuid": "c47680d1-cc50-4947-a687-0bdaece5e7c2",
     "showTitle": false,
     "title": ""
    }
   },
   "source": [
    "Payment Type dimension maps payment type IDs to descriptive names."
   ]
  },
  {
   "cell_type": "code",
   "execution_count": 0,
   "metadata": {
    "application/vnd.databricks.v1+cell": {
     "cellMetadata": {
      "byteLimit": 2048000,
      "rowLimit": 10000
     },
     "inputWidgets": {},
     "nuid": "2d70e85e-d68f-439c-8611-f660e5260667",
     "showTitle": false,
     "title": ""
    }
   },
   "outputs": [],
   "source": [
    "dim_payment_type = spark.read.json(\"/mnt/lookup-data/payment_type.json\")\n",
    "\n",
    "dim_payment_type = (dim_payment_type\n",
    "  .withColumn(\"PaymentTypeID\", col(\"id\").cast(IntegerType()))\n",
    "  .withColumn(\"PaymentType\", col(\"type\").cast(StringType()))\n",
    "  .select(\n",
    "    \"PaymentTypeID\",\n",
    "    \"PaymentType\"\n",
    "  )\n",
    ")"
   ]
  },
  {
   "cell_type": "markdown",
   "metadata": {
    "application/vnd.databricks.v1+cell": {
     "cellMetadata": {
      "byteLimit": 2048000,
      "rowLimit": 10000
     },
     "inputWidgets": {},
     "nuid": "4f57981a-e8fd-44af-8e4d-5ab4f57eefa2",
     "showTitle": false,
     "title": ""
    }
   },
   "source": [
    "##4. Data Loading"
   ]
  },
  {
   "cell_type": "markdown",
   "metadata": {
    "application/vnd.databricks.v1+cell": {
     "cellMetadata": {},
     "inputWidgets": {},
     "nuid": "3fd2defc-736e-44fd-aaf2-a3e44053fa71",
     "showTitle": false,
     "title": ""
    }
   },
   "source": [
    "Saves `FactTrips`, `DimDate`, `DimPickupLocation`, `DimDropoffLocation`, `DimRateCode`, and `DimPaymentType` tables in Gold for analytics, using Delta format for efficient querying."
   ]
  },
  {
   "cell_type": "code",
   "execution_count": 0,
   "metadata": {
    "application/vnd.databricks.v1+cell": {
     "cellMetadata": {
      "byteLimit": 2048000,
      "rowLimit": 10000
     },
     "inputWidgets": {},
     "nuid": "0e1cb04b-1115-4c55-a4cd-486448b5c0f9",
     "showTitle": false,
     "title": ""
    }
   },
   "outputs": [],
   "source": [
    "fact_trips.write.mode(\"append\").format(\"delta\").partitionBy(\"PartitionYear\", \"PartitionMonth\").save(\"/mnt/gold/fact_tables/FactTrips\")\n",
    "dim_date.write.mode(\"append\").format(\"delta\").partitionBy(\"Year\", \"Month\").save(\"/mnt/gold/dimensions/DimDate\")\n",
    "dim_pickup_location.write.mode(\"overwrite\").format(\"delta\").save(\"/mnt/gold/dimensions/DimPickupLocation\")\n",
    "dim_dropoff_location.write.mode(\"overwrite\").format(\"delta\").save(\"/mnt/gold/dimensions/DimDropoffLocation\")\n",
    "dim_rate_code.write.mode(\"overwrite\").format(\"delta\").save(\"/mnt/gold/dimensions/DimRateCode\")\n",
    "dim_payment_type.write.mode(\"overwrite\").format(\"delta\").save(\"/mnt/gold/dimensions/DimPaymentType\")"
   ]
  }
 ],
 "metadata": {
  "application/vnd.databricks.v1+notebook": {
   "dashboards": [],
   "environmentMetadata": {
    "base_environment": "",
    "client": "1"
   },
   "language": "python",
   "notebookMetadata": {
    "pythonIndentUnit": 4
   },
   "notebookName": "lyft-silver-gold",
   "widgets": {}
  },
  "language_info": {
   "name": "python"
  }
 },
 "nbformat": 4,
 "nbformat_minor": 0
}
