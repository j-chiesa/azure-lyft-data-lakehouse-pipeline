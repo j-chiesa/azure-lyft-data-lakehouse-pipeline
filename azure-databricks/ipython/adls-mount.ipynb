{
 "cells": [
  {
   "cell_type": "markdown",
   "metadata": {
    "application/vnd.databricks.v1+cell": {
     "cellMetadata": {},
     "inputWidgets": {},
     "nuid": "32fbe4b9-b313-447d-9322-47716f912b00",
     "showTitle": false,
     "title": ""
    }
   },
   "source": [
    "#Azure Data Lake Storage Mounting"
   ]
  },
  {
   "cell_type": "markdown",
   "metadata": {
    "application/vnd.databricks.v1+cell": {
     "cellMetadata": {},
     "inputWidgets": {},
     "nuid": "c48b35dd-41f5-4b3c-b635-da1f30f339f8",
     "showTitle": false,
     "title": ""
    }
   },
   "source": [
    "Configuration for Azure Data Lake Storage (ADLS) mounting.\n",
    "These configs specify that authentication will use a custom access token, \n",
    "which is obtained dynamically from Databricks' ADLS passthrough token provider. \n",
    "This allows for seamless, secure access based on the user's identity."
   ]
  },
  {
   "cell_type": "code",
   "execution_count": 0,
   "metadata": {
    "application/vnd.databricks.v1+cell": {
     "cellMetadata": {
      "byteLimit": 2048000,
      "rowLimit": 10000
     },
     "inputWidgets": {},
     "nuid": "d95724f1-548d-4bb7-8097-42af600c0b0a",
     "showTitle": false,
     "title": ""
    }
   },
   "outputs": [],
   "source": [
    "configs = {\n",
    "  \"fs.azure.account.auth.type\": \"CustomAccessToken\",\n",
    "  \"fs.azure.account.custom.token.provider.class\": spark.conf.get(\"spark.databricks.passthrough.adls.gen2.tokenProviderClassName\")\n",
    "}"
   ]
  },
  {
   "cell_type": "markdown",
   "metadata": {
    "application/vnd.databricks.v1+cell": {
     "cellMetadata": {
      "byteLimit": 2048000,
      "rowLimit": 10000
     },
     "inputWidgets": {},
     "nuid": "11099ceb-5897-494a-9a29-5a6c882a56be",
     "showTitle": false,
     "title": ""
    }
   },
   "source": [
    "##1. Mount Bronze Container"
   ]
  },
  {
   "cell_type": "markdown",
   "metadata": {
    "application/vnd.databricks.v1+cell": {
     "cellMetadata": {},
     "inputWidgets": {},
     "nuid": "262dbaad-a3ad-48b4-aac4-107d6ea4516c",
     "showTitle": false,
     "title": ""
    }
   },
   "source": [
    "Mounting the Bronze container.\n",
    "This container typically holds raw or unprocessed data. Mounting it makes the data available \n",
    "within Databricks for the first stage of the medallion architecture, allowing raw data ingestion and exploration."
   ]
  },
  {
   "cell_type": "code",
   "execution_count": 0,
   "metadata": {
    "application/vnd.databricks.v1+cell": {
     "cellMetadata": {
      "byteLimit": 2048000,
      "rowLimit": 10000
     },
     "inputWidgets": {},
     "nuid": "bccd77d8-d847-4158-8d2c-d1f8f1fa0e0d",
     "showTitle": false,
     "title": ""
    }
   },
   "outputs": [],
   "source": [
    "dbutils.fs.mount(\n",
    "  source = \"abfss://bronze@stlyftdevweu.dfs.core.windows.net/\",\n",
    "  mount_point = \"/mnt/bronze\",\n",
    "  extra_configs = configs)"
   ]
  },
  {
   "cell_type": "markdown",
   "metadata": {
    "application/vnd.databricks.v1+cell": {
     "cellMetadata": {
      "byteLimit": 2048000,
      "rowLimit": 10000
     },
     "inputWidgets": {},
     "nuid": "8a9dd471-0646-4e23-8fce-1d527188fe15",
     "showTitle": false,
     "title": ""
    }
   },
   "source": [
    "##2. Mount Silver Container"
   ]
  },
  {
   "cell_type": "markdown",
   "metadata": {
    "application/vnd.databricks.v1+cell": {
     "cellMetadata": {},
     "inputWidgets": {},
     "nuid": "e0696634-3492-4df7-af59-1988bb682ca7",
     "showTitle": false,
     "title": ""
    }
   },
   "source": [
    "Mounting the Silver container\n",
    "The Silver container is used for intermediate, cleaned, or partially transformed data.\n",
    "This is where data transformations are performed to improve quality and consistency."
   ]
  },
  {
   "cell_type": "code",
   "execution_count": 0,
   "metadata": {
    "application/vnd.databricks.v1+cell": {
     "cellMetadata": {
      "byteLimit": 2048000,
      "rowLimit": 10000
     },
     "inputWidgets": {},
     "nuid": "c4f52008-7717-48ab-9c84-99df248030cd",
     "showTitle": false,
     "title": ""
    }
   },
   "outputs": [],
   "source": [
    "dbutils.fs.mount(\n",
    "  source = \"abfss://silver@stlyftdevweu.dfs.core.windows.net/\",\n",
    "  mount_point = \"/mnt/silver\",\n",
    "  extra_configs = configs)"
   ]
  },
  {
   "cell_type": "markdown",
   "metadata": {
    "application/vnd.databricks.v1+cell": {
     "cellMetadata": {
      "byteLimit": 2048000,
      "rowLimit": 10000
     },
     "inputWidgets": {},
     "nuid": "2c716345-5116-45ca-ad5b-ceae6bc59fd3",
     "showTitle": false,
     "title": ""
    }
   },
   "source": [
    "##3. Mount Gold Container"
   ]
  },
  {
   "cell_type": "markdown",
   "metadata": {
    "application/vnd.databricks.v1+cell": {
     "cellMetadata": {},
     "inputWidgets": {},
     "nuid": "60add617-18b7-4452-b716-9ad120589232",
     "showTitle": false,
     "title": ""
    }
   },
   "source": [
    "Mounting the Gold container.\n",
    "The Gold container holds data that is fully processed, aggregated, or optimized for analytics and reporting.\n",
    "This final stage of the medallion architecture enables efficient data access for downstream applications."
   ]
  },
  {
   "cell_type": "code",
   "execution_count": 0,
   "metadata": {
    "application/vnd.databricks.v1+cell": {
     "cellMetadata": {
      "byteLimit": 2048000,
      "rowLimit": 10000
     },
     "inputWidgets": {},
     "nuid": "d918be26-501e-42b0-aabd-7efa611c905c",
     "showTitle": false,
     "title": ""
    }
   },
   "outputs": [],
   "source": [
    "dbutils.fs.mount(\n",
    "  source = \"abfss://gold@stlyftdevweu.dfs.core.windows.net/\",\n",
    "  mount_point = \"/mnt/gold\",\n",
    "  extra_configs = configs)"
   ]
  },
  {
   "cell_type": "markdown",
   "metadata": {
    "application/vnd.databricks.v1+cell": {
     "cellMetadata": {
      "byteLimit": 2048000,
      "rowLimit": 10000
     },
     "inputWidgets": {},
     "nuid": "fbe809c9-51f7-47b6-a9cc-1925e6d9aeeb",
     "showTitle": false,
     "title": ""
    }
   },
   "source": [
    "##4. Mount Lookup Data Container"
   ]
  },
  {
   "cell_type": "markdown",
   "metadata": {
    "application/vnd.databricks.v1+cell": {
     "cellMetadata": {},
     "inputWidgets": {},
     "nuid": "a7a92a42-501a-4fb7-a242-00c71b79924d",
     "showTitle": false,
     "title": ""
    }
   },
   "source": [
    "Mounting the Lookup Data container.\n",
    "This container includes the lookup tables for the payment types, rate codes and locations. The data in this container is used exclusively at the Silver stage for joining and enriching the fact table with context."
   ]
  },
  {
   "cell_type": "code",
   "execution_count": 0,
   "metadata": {
    "application/vnd.databricks.v1+cell": {
     "cellMetadata": {
      "byteLimit": 2048000,
      "rowLimit": 10000
     },
     "inputWidgets": {},
     "nuid": "07e2b124-81f9-4f71-9ad1-3c4f928220e1",
     "showTitle": false,
     "title": ""
    }
   },
   "outputs": [
    {
     "output_type": "execute_result",
     "data": {
      "text/plain": [
       "True"
      ]
     },
     "execution_count": 3,
     "metadata": {},
     "output_type": "execute_result"
    }
   ],
   "source": [
    "dbutils.fs.mount(\n",
    "  source = \"abfss://lookup-data@stlyftdevweu.dfs.core.windows.net/\",\n",
    "  mount_point = \"/mnt/lookup-data\",\n",
    "  extra_configs = configs)"
   ]
  }
 ],
 "metadata": {
  "application/vnd.databricks.v1+notebook": {
   "dashboards": [],
   "environmentMetadata": {
    "base_environment": "",
    "client": "1"
   },
   "language": "python",
   "notebookMetadata": {
    "pythonIndentUnit": 4
   },
   "notebookName": "adls-mount",
   "widgets": {}
  },
  "language_info": {
   "name": "python"
  }
 },
 "nbformat": 4,
 "nbformat_minor": 0
}
