{
 "cells": [
  {
   "cell_type": "markdown",
   "metadata": {
    "application/vnd.databricks.v1+cell": {
     "cellMetadata": {
      "byteLimit": 2048000,
      "rowLimit": 10000
     },
     "inputWidgets": {},
     "nuid": "eba4c27c-d0a6-4d73-8304-f0edf538d939",
     "showTitle": false,
     "title": ""
    }
   },
   "source": [
    "#Bronze To Silver"
   ]
  },
  {
   "cell_type": "markdown",
   "metadata": {
    "application/vnd.databricks.v1+cell": {
     "cellMetadata": {},
     "inputWidgets": {},
     "nuid": "23d5500e-3e08-4d1d-b63e-6dbe9972e8a3",
     "showTitle": false,
     "title": ""
    }
   },
   "source": [
    "The Bronze to Silver code performs data cleansing, validation, and formatting in a medallion architecture pipeline. It starts by loading raw data from the Bronze layer, specified by partition year and month, into a Spark DataFrame. The pipeline then processes this data in several steps:\n",
    "\n",
    "- **Data Integrity Checks:** Removes rows with critical null values (e.g., `passenger_count`, `tpep_pickup_datetime`), filling other nullable fields with default values to ensure completeness.\n",
    "\n",
    "- **Data Type Validation:** Casts columns to their appropriate data types, ensuring consistency and correctness for downstream processes.\n",
    "\n",
    "- **Date and Range Checks:** Ensures `tpep_pickup_datetime` is earlier than `tpep_dropoff_datetime` and that dates fall within the specified partition month. Validates numeric fields to remove or flag invalid records (e.g., negative distances or fare amounts).\n",
    "\n",
    "- **Categorical Data Mapping:** Restricts `RatecodeID` and `payment_type` to known ranges, assigning out-of-range values to 7 (unknown), and filters valid NYC location IDs, mapping unknown values as 264.\n",
    "\n",
    "- **Deduplication:** Removes potential duplicate records based on key fields (e.g., VendorID, pickup and dropoff times, total_amount) to improve data quality.\n",
    "\n",
    "- **Metadata and Partitioning:** Adds audit columns (`PipelineRunID`, `PipelineRunDate`, `SourceFile`) for traceability and partitions data by year and month.\n",
    "\n",
    "Finally, the cleaned and enriched data is saved in Delta format to the Silver layer, optimized for analytics and further processing in subsequent steps."
   ]
  },
  {
   "cell_type": "code",
   "execution_count": 0,
   "metadata": {
    "application/vnd.databricks.v1+cell": {
     "cellMetadata": {
      "byteLimit": 2048000,
      "rowLimit": 10000
     },
     "inputWidgets": {},
     "nuid": "340ba250-56d4-4f4e-8a81-e8a7c9b9ff79",
     "showTitle": false,
     "title": ""
    }
   },
   "outputs": [],
   "source": [
    "from pyspark.sql.functions import *\n",
    "from pyspark.sql.types import *\n",
    "from datetime import datetime\n",
    "from calendar import monthrange"
   ]
  },
  {
   "cell_type": "markdown",
   "metadata": {
    "application/vnd.databricks.v1+cell": {
     "cellMetadata": {
      "byteLimit": 2048000,
      "rowLimit": 10000
     },
     "inputWidgets": {},
     "nuid": "65f5cffe-e21a-4fdf-9622-60b561800877",
     "showTitle": false,
     "title": ""
    }
   },
   "source": [
    "##1. Data Reading"
   ]
  },
  {
   "cell_type": "markdown",
   "metadata": {
    "application/vnd.databricks.v1+cell": {
     "cellMetadata": {},
     "inputWidgets": {},
     "nuid": "0a9a91bf-de0e-4296-9329-5e82f1924d68",
     "showTitle": false,
     "title": ""
    }
   },
   "source": [
    "Setting up widgets to parameterize the data by year and month. This allows dynamic selection of the partition year and month for reading data, improving modularity and reusability."
   ]
  },
  {
   "cell_type": "code",
   "execution_count": 0,
   "metadata": {
    "application/vnd.databricks.v1+cell": {
     "cellMetadata": {
      "byteLimit": 2048000,
      "rowLimit": 10000
     },
     "inputWidgets": {},
     "nuid": "d638e872-f29d-4c6f-b732-878b65251951",
     "showTitle": false,
     "title": ""
    }
   },
   "outputs": [],
   "source": [
    "dbutils.widgets.text(\"Year\", \"\")\n",
    "dbutils.widgets.text(\"Month\", \"\")\n",
    "\n",
    "partition_year = dbutils.widgets.get(\"Year\")\n",
    "partition_month = dbutils.widgets.get(\"Month\")"
   ]
  },
  {
   "cell_type": "markdown",
   "metadata": {
    "application/vnd.databricks.v1+cell": {
     "cellMetadata": {},
     "inputWidgets": {},
     "nuid": "f89b7156-b368-4e42-b46f-5bdbf8e0d4c3",
     "showTitle": false,
     "title": ""
    }
   },
   "source": [
    "Reading raw data from the Bronze delta lake container with the specified partition. The data is read in delta format from the specified year and month, ensuring we only process data relevant to the selected time frame.\n"
   ]
  },
  {
   "cell_type": "code",
   "execution_count": 0,
   "metadata": {
    "application/vnd.databricks.v1+cell": {
     "cellMetadata": {},
     "inputWidgets": {},
     "nuid": "39100e1d-9c18-4624-b423-76d78f33069a",
     "showTitle": false,
     "title": ""
    }
   },
   "outputs": [],
   "source": [
    "silver_df = spark.read.format(\"delta\").load(f\"/mnt/bronze/delta_data/PartitionYear={partition_year}/PartitionMonth={partition_month}\")"
   ]
  },
  {
   "cell_type": "markdown",
   "metadata": {
    "application/vnd.databricks.v1+cell": {
     "cellMetadata": {
      "byteLimit": 2048000,
      "rowLimit": 10000
     },
     "inputWidgets": {},
     "nuid": "72fc5c05-6f88-42d9-bf43-771afd2da82a",
     "showTitle": false,
     "title": ""
    }
   },
   "source": [
    "##2. Data Integrity"
   ]
  },
  {
   "cell_type": "markdown",
   "metadata": {
    "application/vnd.databricks.v1+cell": {
     "cellMetadata": {
      "byteLimit": 2048000,
      "rowLimit": 10000
     },
     "inputWidgets": {},
     "nuid": "5aec3287-8056-4de4-8187-d449518cd652",
     "showTitle": false,
     "title": ""
    }
   },
   "source": [
    "####Null Checks"
   ]
  },
  {
   "cell_type": "markdown",
   "metadata": {
    "application/vnd.databricks.v1+cell": {
     "cellMetadata": {},
     "inputWidgets": {},
     "nuid": "1f5d598b-6f44-4248-a5dd-2b620dc1ccc9",
     "showTitle": false,
     "title": ""
    }
   },
   "source": [
    "Dropping rows where certain critical fields are null. Ensures data quality by filtering out rows that lack required values, particularly those needed for analysis or further processing."
   ]
  },
  {
   "cell_type": "code",
   "execution_count": 0,
   "metadata": {
    "application/vnd.databricks.v1+cell": {
     "cellMetadata": {
      "byteLimit": 2048000,
      "rowLimit": 10000
     },
     "inputWidgets": {},
     "nuid": "5ce76bd5-05a3-4642-a5d5-b6a96120989d",
     "showTitle": false,
     "title": ""
    }
   },
   "outputs": [],
   "source": [
    "silver_df = silver_df.na.drop(subset=[\n",
    "        \"passenger_count\",\n",
    "        \"tpep_pickup_datetime\",\n",
    "        \"tpep_dropoff_datetime\"\n",
    "])"
   ]
  },
  {
   "cell_type": "markdown",
   "metadata": {
    "application/vnd.databricks.v1+cell": {
     "cellMetadata": {},
     "inputWidgets": {},
     "nuid": "1442c9ed-bcbf-4cf2-89c3-10b1938d9d99",
     "showTitle": false,
     "title": ""
    }
   },
   "source": [
    "Filling null values in certain columns with defaults. This approach ensures that calculations don't break due to missing values, and provides a meaningful fallback for specific columns."
   ]
  },
  {
   "cell_type": "code",
   "execution_count": 0,
   "metadata": {
    "application/vnd.databricks.v1+cell": {
     "cellMetadata": {},
     "inputWidgets": {},
     "nuid": "5d3ccd49-28a7-4843-b66c-312d6174d67e",
     "showTitle": false,
     "title": ""
    }
   },
   "outputs": [],
   "source": [
    "silver_df = silver_df.fillna(\n",
    "    {\n",
    "        \"trip_distance\": 0,\n",
    "        \"fare_amount\": 0,\n",
    "        \"extra\": 0,\n",
    "        \"mta_tax\": 0,\n",
    "        \"tip_amount\": 0,\n",
    "        \"tolls_amount\": 0,\n",
    "        \"improvement_surcharge\": 0,\n",
    "        \"total_amount\": 0,\n",
    "        \"congestion_surcharge\": 0,\n",
    "        \"Airport_fee\": 0\n",
    "    }\n",
    ")\n",
    "\n",
    "silver_df = silver_df.fillna(\n",
    "\n",
    "    {\n",
    "        \"RateCodeID\": 7,\n",
    "        \"payment_type\": 5,\n",
    "        \"PULocationID\": 264,\n",
    "        \"DOLocationID\": 264,\n",
    "        \"store_and_fwd_flag\": \"Unknown\"\n",
    "    }\n",
    ")"
   ]
  },
  {
   "cell_type": "markdown",
   "metadata": {
    "application/vnd.databricks.v1+cell": {
     "cellMetadata": {
      "byteLimit": 2048000,
      "rowLimit": 10000
     },
     "inputWidgets": {},
     "nuid": "95ceb26b-64bd-46da-a40b-fc222ad35b7e",
     "showTitle": false,
     "title": ""
    }
   },
   "source": [
    "####Data Type Validation"
   ]
  },
  {
   "cell_type": "markdown",
   "metadata": {
    "application/vnd.databricks.v1+cell": {
     "cellMetadata": {},
     "inputWidgets": {},
     "nuid": "78c69fce-dac6-4312-b9e7-9e1b5d3a9498",
     "showTitle": false,
     "title": ""
    }
   },
   "source": [
    "Casting columns to enforce correct data types. Ensures that columns are in the expected format, which is critical for consistency and downstream processing."
   ]
  },
  {
   "cell_type": "code",
   "execution_count": 0,
   "metadata": {
    "application/vnd.databricks.v1+cell": {
     "cellMetadata": {
      "byteLimit": 2048000,
      "rowLimit": 10000
     },
     "inputWidgets": {},
     "nuid": "952e35bc-71c8-471e-80c8-f009652f4db3",
     "showTitle": false,
     "title": ""
    }
   },
   "outputs": [],
   "source": [
    "\n",
    "silver_df = (silver_df\n",
    "  .withColumn(\"VendorID\", col(\"VendorID\").cast(IntegerType()))\n",
    "  .withColumn(\"tpep_pickup_datetime\", col(\"tpep_pickup_datetime\").cast(TimestampType()))\n",
    "  .withColumn(\"tpep_dropoff_datetime\", col(\"tpep_dropoff_datetime\").cast(TimestampType()))\n",
    "  .withColumn(\"passenger_count\", col(\"passenger_count\").cast(IntegerType()))\n",
    "  .withColumn(\"trip_distance\", col(\"trip_distance\").cast(DoubleType()))\n",
    "  .withColumn(\"RatecodeID\", col(\"RatecodeID\").cast(IntegerType()))\n",
    "  .withColumn(\"store_and_fwd_flag\", col(\"store_and_fwd_flag\").cast(StringType()))\n",
    "  .withColumn(\"PULocationID\", col(\"PULocationID\").cast(IntegerType()))\n",
    "  .withColumn(\"DOLocationID\", col(\"DOLocationID\").cast(IntegerType())) \n",
    "  .withColumn(\"payment_type\", col(\"payment_type\").cast(IntegerType()))\n",
    "  .withColumn(\"fare_amount\", col(\"fare_amount\").cast(DoubleType()))\n",
    "  .withColumn(\"extra\", col(\"extra\").cast(DoubleType()))\n",
    "  .withColumn(\"mta_tax\", col(\"mta_tax\").cast(DoubleType()))\n",
    "  .withColumn(\"tip_amount\", col(\"tip_amount\").cast(DoubleType()))\n",
    "  .withColumn(\"tolls_amount\", col(\"tolls_amount\").cast(DoubleType())) \n",
    "  .withColumn(\"improvement_surcharge\", col(\"improvement_surcharge\").cast(DoubleType())) \n",
    "  .withColumn(\"total_amount\", col(\"total_amount\").cast(DoubleType())) \n",
    "  .withColumn(\"congestion_surcharge\", col(\"congestion_surcharge\").cast(DoubleType())) \n",
    "  .withColumn(\"Airport_fee\", col(\"Airport_fee\").cast(DoubleType()))\n",
    ")"
   ]
  },
  {
   "cell_type": "markdown",
   "metadata": {
    "application/vnd.databricks.v1+cell": {
     "cellMetadata": {
      "byteLimit": 2048000,
      "rowLimit": 10000
     },
     "inputWidgets": {},
     "nuid": "a6031af9-70cf-40e0-be98-33cd18fc0b6d",
     "showTitle": false,
     "title": ""
    }
   },
   "source": [
    "##3. Format and Range"
   ]
  },
  {
   "cell_type": "markdown",
   "metadata": {
    "application/vnd.databricks.v1+cell": {
     "cellMetadata": {
      "byteLimit": 2048000,
      "rowLimit": 10000
     },
     "inputWidgets": {},
     "nuid": "8982fd03-1c1c-42ed-aa4b-9e439698d76b",
     "showTitle": false,
     "title": ""
    }
   },
   "source": [
    "####Date and Time Consistency"
   ]
  },
  {
   "cell_type": "markdown",
   "metadata": {
    "application/vnd.databricks.v1+cell": {
     "cellMetadata": {},
     "inputWidgets": {},
     "nuid": "71e48c93-067c-405f-93c9-cc0ae47a9406",
     "showTitle": false,
     "title": ""
    }
   },
   "source": [
    "Ensuring pickup time is before dropoff time. Validates temporal consistency by ensuring that each trip has a valid pickup and dropoff order."
   ]
  },
  {
   "cell_type": "code",
   "execution_count": 0,
   "metadata": {
    "application/vnd.databricks.v1+cell": {
     "cellMetadata": {
      "byteLimit": 2048000,
      "rowLimit": 10000
     },
     "inputWidgets": {},
     "nuid": "fa2d1ff6-4574-4bd8-b335-ec8bfc36a9fe",
     "showTitle": false,
     "title": ""
    }
   },
   "outputs": [],
   "source": [
    "silver_df = silver_df.filter(col(\"tpep_pickup_datetime\") < col(\"tpep_dropoff_datetime\"))"
   ]
  },
  {
   "cell_type": "markdown",
   "metadata": {
    "application/vnd.databricks.v1+cell": {
     "cellMetadata": {},
     "inputWidgets": {},
     "nuid": "dffaaf02-8360-4398-b01d-14a04b4212c6",
     "showTitle": false,
     "title": ""
    }
   },
   "source": [
    "Filtering trips to fall within the specified month range. Adds another layer of temporal validation by filtering out records outside the expected monthly boundary."
   ]
  },
  {
   "cell_type": "code",
   "execution_count": 0,
   "metadata": {
    "application/vnd.databricks.v1+cell": {
     "cellMetadata": {},
     "inputWidgets": {},
     "nuid": "b9870d3c-0a0f-47e4-8917-10e18d5e53d0",
     "showTitle": false,
     "title": ""
    }
   },
   "outputs": [],
   "source": [
    "start_date = datetime(int(partition_year), int(partition_month), 1)\n",
    "end_date = datetime(int(partition_year), int(partition_month), monthrange(int(partition_year), int(partition_month))[1])\n",
    "\n",
    "silver_df = silver_df.filter(\n",
    "    (col(\"tpep_pickup_datetime\") >= lit(start_date)) &\n",
    "    (col(\"tpep_pickup_datetime\") <= lit(end_date))\n",
    ")"
   ]
  },
  {
   "cell_type": "markdown",
   "metadata": {
    "application/vnd.databricks.v1+cell": {
     "cellMetadata": {
      "byteLimit": 2048000,
      "rowLimit": 10000
     },
     "inputWidgets": {},
     "nuid": "e7676dbe-7d2e-4737-ac84-b1607628d734",
     "showTitle": false,
     "title": ""
    }
   },
   "source": [
    "####Range Checks for Numeric Columns"
   ]
  },
  {
   "cell_type": "markdown",
   "metadata": {
    "application/vnd.databricks.v1+cell": {
     "cellMetadata": {},
     "inputWidgets": {},
     "nuid": "341f9da6-1fbe-457b-94be-3f3e79ff002b",
     "showTitle": false,
     "title": ""
    }
   },
   "source": [
    "Ensuring values fall within acceptable ranges for numeric columns. This is critical for data quality, ensuring only realistic and valid numeric entries proceed to the Silver layer."
   ]
  },
  {
   "cell_type": "code",
   "execution_count": 0,
   "metadata": {
    "application/vnd.databricks.v1+cell": {
     "cellMetadata": {
      "byteLimit": 2048000,
      "rowLimit": 10000
     },
     "inputWidgets": {},
     "nuid": "d900d234-93d7-471c-957f-f3260b6ba303",
     "showTitle": false,
     "title": ""
    }
   },
   "outputs": [],
   "source": [
    "silver_df = silver_df.filter(\n",
    "    (col(\"passenger_count\") >= 1) &\n",
    "    (col(\"trip_distance\") >= 0) &\n",
    "    (col(\"fare_amount\") >= 0) &\n",
    "    (col(\"extra\") >= 0) &\n",
    "    (col(\"mta_tax\") >= 0) &\n",
    "    (col(\"tip_amount\") >= 0) &\n",
    "    (col(\"tolls_amount\") >= 0) &\n",
    "    (col(\"improvement_surcharge\") >= 0) &\n",
    "    (col(\"total_amount\") >= 0) &\n",
    "    (col(\"congestion_surcharge\") >= 0) &\n",
    "    (col(\"Airport_fee\") >= 0)\n",
    ")"
   ]
  },
  {
   "cell_type": "markdown",
   "metadata": {
    "application/vnd.databricks.v1+cell": {
     "cellMetadata": {},
     "inputWidgets": {},
     "nuid": "e0951abf-fcd0-4ce1-86a4-da6eb4c48c07",
     "showTitle": false,
     "title": ""
    }
   },
   "source": [
    "Map `RatecodeID` values to 1-6 range, assigning 7 (unknown) to any out-of-range values."
   ]
  },
  {
   "cell_type": "code",
   "execution_count": 0,
   "metadata": {
    "application/vnd.databricks.v1+cell": {
     "cellMetadata": {},
     "inputWidgets": {},
     "nuid": "3997a925-f2a1-4872-9651-2534805c36d3",
     "showTitle": false,
     "title": ""
    }
   },
   "outputs": [],
   "source": [
    "silver_df = silver_df.withColumn(\n",
    "    \"RatecodeID\",\n",
    "    when((col(\"RatecodeID\") >= 1) & (col(\"RatecodeID\") <= 6), col(\"RatecodeID\"))\n",
    "    .otherwise(7)\n",
    ")"
   ]
  },
  {
   "cell_type": "markdown",
   "metadata": {
    "application/vnd.databricks.v1+cell": {
     "cellMetadata": {},
     "inputWidgets": {},
     "nuid": "e698db5d-57af-4286-b82a-ec52e4442aea",
     "showTitle": false,
     "title": ""
    }
   },
   "source": [
    "Map `payment_type` values to 1-6 range, assigning 7 (unknown) to any out-of-range values."
   ]
  },
  {
   "cell_type": "code",
   "execution_count": 0,
   "metadata": {
    "application/vnd.databricks.v1+cell": {
     "cellMetadata": {},
     "inputWidgets": {},
     "nuid": "e843ce8d-41f9-40c5-ae22-8f9bc808a0e7",
     "showTitle": false,
     "title": ""
    }
   },
   "outputs": [],
   "source": [
    "silver_df = silver_df.withColumn(\n",
    "    \"payment_type\",\n",
    "    when((col(\"payment_type\") >= 1) & (col(\"payment_type\") <= 6), col(\"payment_type\"))\n",
    "    .otherwise(7)\n",
    ")"
   ]
  },
  {
   "cell_type": "markdown",
   "metadata": {
    "application/vnd.databricks.v1+cell": {
     "cellMetadata": {},
     "inputWidgets": {},
     "nuid": "dd5935d8-abbf-4204-94f6-77839d732f78",
     "showTitle": false,
     "title": ""
    }
   },
   "source": [
    "Map `PULocationID` and `DOLocationID` values to 1-265 range, assigning 264 (unknown) to any out-of-range values."
   ]
  },
  {
   "cell_type": "code",
   "execution_count": 0,
   "metadata": {
    "application/vnd.databricks.v1+cell": {
     "cellMetadata": {
      "byteLimit": 2048000,
      "rowLimit": 10000
     },
     "inputWidgets": {},
     "nuid": "4a58c00a-ef3f-4fc7-9d09-535eac6d7ad2",
     "showTitle": false,
     "title": ""
    }
   },
   "outputs": [],
   "source": [
    "silver_df = silver_df.withColumn(\n",
    "    \"PULocationID\",\n",
    "    when((col(\"PULocationID\") >= 1) & (col(\"PULocationID\") <= 265), col(\"PULocationID\"))\n",
    "    .otherwise(264)\n",
    ").withColumn(\n",
    "    \"DOLocationID\",\n",
    "    when((col(\"DOLocationID\") >= 1) & (col(\"DOLocationID\") <= 265), col(\"DOLocationID\"))\n",
    "    .otherwise(264)\n",
    ")"
   ]
  },
  {
   "cell_type": "markdown",
   "metadata": {
    "application/vnd.databricks.v1+cell": {
     "cellMetadata": {
      "byteLimit": 2048000,
      "rowLimit": 10000
     },
     "inputWidgets": {},
     "nuid": "7c5c53b6-1f6b-4657-a326-515922cf01a6",
     "showTitle": false,
     "title": ""
    }
   },
   "source": [
    "##4. Consistency and Cross-Field Validations"
   ]
  },
  {
   "cell_type": "markdown",
   "metadata": {
    "application/vnd.databricks.v1+cell": {
     "cellMetadata": {
      "byteLimit": 2048000,
      "rowLimit": 10000
     },
     "inputWidgets": {},
     "nuid": "203f8c45-ea97-4c23-86b2-100dfdb8b655",
     "showTitle": false,
     "title": ""
    }
   },
   "source": [
    "####Cross-Field validation for `total_amount`"
   ]
  },
  {
   "cell_type": "markdown",
   "metadata": {
    "application/vnd.databricks.v1+cell": {
     "cellMetadata": {},
     "inputWidgets": {},
     "nuid": "c312c83c-bf04-441c-b4d6-56b67f854ab7",
     "showTitle": false,
     "title": ""
    }
   },
   "source": [
    "Validating total amount consistency with calculated total. This adds a calculated column to check if the `total_amount` matches the sum of individual charges, improving data accuracy."
   ]
  },
  {
   "cell_type": "code",
   "execution_count": 0,
   "metadata": {
    "application/vnd.databricks.v1+cell": {
     "cellMetadata": {
      "byteLimit": 2048000,
      "rowLimit": 10000
     },
     "inputWidgets": {},
     "nuid": "38757ac7-3890-4a79-ad97-e6e3ceee5fde",
     "showTitle": false,
     "title": ""
    }
   },
   "outputs": [],
   "source": [
    "silver_df = silver_df.withColumn(\n",
    "    \"calculated_total_amount\",\n",
    "    col(\"fare_amount\") + \n",
    "    col(\"extra\") + \n",
    "    col(\"mta_tax\") + \n",
    "    col(\"tip_amount\") +\n",
    "    col(\"tolls_amount\") + \n",
    "    col(\"improvement_surcharge\") + \n",
    "    col(\"congestion_surcharge\") + \n",
    "    col(\"Airport_fee\")\n",
    ")\n",
    "\n",
    "silver_df = silver_df.withColumn(\n",
    "    \"total_amount\",\n",
    "    when(col(\"total_amount\") != col(\"calculated_total_amount\"), col(\"calculated_total_amount\"))\n",
    "    .otherwise(col(\"total_amount\"))\n",
    ").drop(\"calculated_total_amount\")"
   ]
  },
  {
   "cell_type": "markdown",
   "metadata": {
    "application/vnd.databricks.v1+cell": {
     "cellMetadata": {
      "byteLimit": 2048000,
      "rowLimit": 10000
     },
     "inputWidgets": {},
     "nuid": "954c6128-b6c1-4c43-aa0c-013bb62f26ca",
     "showTitle": false,
     "title": ""
    }
   },
   "source": [
    "##5. Deduplication "
   ]
  },
  {
   "cell_type": "markdown",
   "metadata": {
    "application/vnd.databricks.v1+cell": {
     "cellMetadata": {
      "byteLimit": 2048000,
      "rowLimit": 10000
     },
     "inputWidgets": {},
     "nuid": "a37267ab-4851-4b2e-83c7-349a56a08ca1",
     "showTitle": false,
     "title": ""
    }
   },
   "source": [
    "Removes potential duplicate trips based on key columns that uniquely represent a trip, enhancing data quality."
   ]
  },
  {
   "cell_type": "code",
   "execution_count": 0,
   "metadata": {
    "application/vnd.databricks.v1+cell": {
     "cellMetadata": {
      "byteLimit": 2048000,
      "rowLimit": 10000
     },
     "inputWidgets": {},
     "nuid": "0494218b-726f-4e7f-8954-88916e89fe65",
     "showTitle": false,
     "title": ""
    }
   },
   "outputs": [],
   "source": [
    "silver_df = silver_df.dropDuplicates(subset=[\"VendorID\", \"tpep_pickup_datetime\", \"tpep_dropoff_datetime\", \"total_amount\"])"
   ]
  },
  {
   "cell_type": "markdown",
   "metadata": {
    "application/vnd.databricks.v1+cell": {
     "cellMetadata": {
      "byteLimit": 2048000,
      "rowLimit": 10000
     },
     "inputWidgets": {},
     "nuid": "d2f85f12-d7b9-42e6-b130-6873c1fd8e49",
     "showTitle": false,
     "title": ""
    }
   },
   "source": [
    "##6. Extra Columns"
   ]
  },
  {
   "cell_type": "markdown",
   "metadata": {
    "application/vnd.databricks.v1+cell": {
     "cellMetadata": {
      "byteLimit": 2048000,
      "rowLimit": 10000
     },
     "inputWidgets": {},
     "nuid": "a517f2eb-2f64-4060-918b-8c2f301ebbe7",
     "showTitle": false,
     "title": ""
    }
   },
   "source": [
    "####Partitions"
   ]
  },
  {
   "cell_type": "markdown",
   "metadata": {
    "application/vnd.databricks.v1+cell": {
     "cellMetadata": {},
     "inputWidgets": {},
     "nuid": "ab47d92c-89ff-496f-bbfb-8da98295edbb",
     "showTitle": false,
     "title": ""
    }
   },
   "source": [
    "Adding partition columns for year and month. Extracts and adds year and month from pickup datetime to support partitioning and optimized querying in the delta lake."
   ]
  },
  {
   "cell_type": "code",
   "execution_count": 0,
   "metadata": {
    "application/vnd.databricks.v1+cell": {
     "cellMetadata": {
      "byteLimit": 2048000,
      "rowLimit": 10000
     },
     "inputWidgets": {},
     "nuid": "ab9c7805-13c7-4e6e-bd05-fadb063d63fe",
     "showTitle": false,
     "title": ""
    }
   },
   "outputs": [],
   "source": [
    "silver_df = silver_df.withColumn(\"PartitionYear\", year(col(\"tpep_pickup_datetime\")))\n",
    "silver_df = silver_df.withColumn(\"PartitionMonth\", month(col(\"tpep_pickup_datetime\")))"
   ]
  },
  {
   "cell_type": "markdown",
   "metadata": {
    "application/vnd.databricks.v1+cell": {
     "cellMetadata": {
      "byteLimit": 2048000,
      "rowLimit": 10000
     },
     "inputWidgets": {},
     "nuid": "c107c2bd-0fa5-45af-9ce8-ae13dea73195",
     "showTitle": false,
     "title": ""
    }
   },
   "source": [
    "####Audit Columns"
   ]
  },
  {
   "cell_type": "markdown",
   "metadata": {
    "application/vnd.databricks.v1+cell": {
     "cellMetadata": {},
     "inputWidgets": {},
     "nuid": "49af0717-8bbe-497a-8b62-66f12da7f65c",
     "showTitle": false,
     "title": ""
    }
   },
   "source": [
    "Adding audit columns for tracking data lineage and load metadata. These columns help track data origin and load specifics, useful for audits and debugging."
   ]
  },
  {
   "cell_type": "code",
   "execution_count": 0,
   "metadata": {
    "application/vnd.databricks.v1+cell": {
     "cellMetadata": {
      "byteLimit": 2048000,
      "rowLimit": 10000
     },
     "inputWidgets": {},
     "nuid": "ec91b88d-c15c-497a-8e23-3947029fd9f5",
     "showTitle": false,
     "title": ""
    }
   },
   "outputs": [],
   "source": [
    "dbutils.widgets.text(\"PipelineRunID\", \"\")\n",
    "pipeline_id = dbutils.widgets.get(\"PipelineRunID\")\n",
    "\n",
    "silver_df = (silver_df\n",
    "    .withColumn(\"PipelineRunID\", lit(pipeline_id))\n",
    "    .withColumn(\"PipelineRunDate\",now())\n",
    "    .withColumn(\"SourceFile\", input_file_name())\n",
    ")"
   ]
  },
  {
   "cell_type": "markdown",
   "metadata": {
    "application/vnd.databricks.v1+cell": {
     "cellMetadata": {
      "byteLimit": 2048000,
      "rowLimit": 10000
     },
     "inputWidgets": {},
     "nuid": "fe3f1db8-4723-481b-88d4-12160977b744",
     "showTitle": false,
     "title": ""
    }
   },
   "source": [
    "##6. Data Loading"
   ]
  },
  {
   "cell_type": "markdown",
   "metadata": {
    "application/vnd.databricks.v1+cell": {
     "cellMetadata": {},
     "inputWidgets": {},
     "nuid": "eb0cbe54-c97e-4545-a468-f93b9fc43928",
     "showTitle": false,
     "title": ""
    }
   },
   "source": [
    "Writing the transformed data to the Silver container. Saves data in Delta format, partitioned by year and month, facilitating optimized storage and query performance."
   ]
  },
  {
   "cell_type": "code",
   "execution_count": 0,
   "metadata": {
    "application/vnd.databricks.v1+cell": {
     "cellMetadata": {
      "byteLimit": 2048000,
      "rowLimit": 10000
     },
     "inputWidgets": {},
     "nuid": "5496de92-f9b0-48ac-b437-f81318aca3a7",
     "showTitle": false,
     "title": ""
    }
   },
   "outputs": [],
   "source": [
    "silver_df.write.mode(\"append\").format(\"delta\").partitionBy(\"PartitionYear\", \"PartitionMonth\").save(\"/mnt/silver\")"
   ]
  }
 ],
 "metadata": {
  "application/vnd.databricks.v1+notebook": {
   "dashboards": [],
   "environmentMetadata": {
    "base_environment": "",
    "client": "1"
   },
   "language": "python",
   "notebookMetadata": {
    "pythonIndentUnit": 4
   },
   "notebookName": "lyft-bronze-silver",
   "widgets": {
    "PipelineRunID": {
     "currentValue": "",
     "nuid": "705aaacc-c6de-4b4b-9b70-b4c0e5029159",
     "typedWidgetInfo": {
      "autoCreated": false,
      "defaultValue": "",
      "label": null,
      "name": "PipelineRunID",
      "options": {
       "widgetDisplayType": "Text",
       "validationRegex": null
      },
      "parameterDataType": "String"
     },
     "widgetInfo": {
      "widgetType": "text",
      "defaultValue": "",
      "label": null,
      "name": "PipelineRunID",
      "options": {
       "widgetType": "text",
       "autoCreated": null,
       "validationRegex": null
      }
     }
    },
    "Year": {
     "currentValue": "",
     "nuid": "4bb28b28-fe9d-4e61-b07e-71c1e68edab2",
     "typedWidgetInfo": {
      "autoCreated": false,
      "defaultValue": "",
      "label": "",
      "name": "Year",
      "options": {
       "widgetDisplayType": "Text",
       "validationRegex": null
      },
      "parameterDataType": "String"
     },
     "widgetInfo": {
      "widgetType": "text",
      "defaultValue": "",
      "label": "",
      "name": "Year",
      "options": {
       "widgetType": "text",
       "autoCreated": false,
       "validationRegex": null
      }
     }
    }
   }
  },
  "language_info": {
   "name": "python"
  }
 },
 "nbformat": 4,
 "nbformat_minor": 0
}
